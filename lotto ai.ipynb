{
 "cells": [
  {
   "cell_type": "code",
   "execution_count": null,
   "metadata": {
    "id": "cqI3K4Z1_9y_"
   },
   "outputs": [],
   "source": [
    "import numpy as np\n",
    "import pandas as pd\n",
    "from sklearn.preprocessing import StandardScaler"
   ]
  },
  {
   "cell_type": "code",
   "execution_count": null,
   "metadata": {
    "id": "hcU8I8YcA5-E"
   },
   "outputs": [],
   "source": [
    "df = pd.read_csv(\"results/all_results.csv\")"
   ]
  },
  {
   "cell_type": "code",
   "execution_count": null,
   "metadata": {
    "colab": {
     "base_uri": "https://localhost:8080/",
     "height": 206
    },
    "id": "gDHVObV5A_Tt",
    "outputId": "7f14415d-6f4d-4b71-c897-dfdc8eaae78b"
   },
   "outputs": [],
   "source": [
    "df.head()"
   ]
  },
  {
   "cell_type": "code",
   "execution_count": null,
   "metadata": {
    "colab": {
     "base_uri": "https://localhost:8080/",
     "height": 206
    },
    "id": "HjWDe-HI_9zD",
    "outputId": "bb7e77ed-cc1a-40de-e4b6-0335d2c6ee3a"
   },
   "outputs": [],
   "source": [
    "df.tail()"
   ]
  },
  {
   "cell_type": "code",
   "execution_count": null,
   "metadata": {
    "colab": {
     "base_uri": "https://localhost:8080/"
    },
    "id": "-LixHJ-m_9zE",
    "outputId": "f84e8735-1f32-4f5b-9426-c7e95cfa2018"
   },
   "outputs": [],
   "source": [
    "df.info()"
   ]
  },
  {
   "cell_type": "code",
   "execution_count": null,
   "metadata": {
    "colab": {
     "base_uri": "https://localhost:8080/",
     "height": 300
    },
    "id": "nDx9p9qZ_9zF",
    "outputId": "69b3d6b8-b3ac-4444-f8ac-ddaa4e592abb"
   },
   "outputs": [],
   "source": [
    "df.describe()"
   ]
  },
  {
   "cell_type": "code",
   "execution_count": null,
   "metadata": {
    "id": "wXq7yEJi_9zF"
   },
   "outputs": [],
   "source": [
    "df.drop(['Game', 'Date'], axis=1, inplace=True)"
   ]
  },
  {
   "cell_type": "code",
   "execution_count": null,
   "metadata": {
    "colab": {
     "base_uri": "https://localhost:8080/",
     "height": 206
    },
    "id": "kHj-RrWP_9zG",
    "outputId": "83f8082e-47cf-443e-97ba-05a077e7363e",
    "scrolled": true
   },
   "outputs": [],
   "source": [
    "df.head()"
   ]
  },
  {
   "cell_type": "code",
   "execution_count": null,
   "metadata": {
    "id": "IFxUoUUa_9zG"
   },
   "outputs": [],
   "source": [
    "scaler = StandardScaler().fit(df.values)\n",
    "transformed_dataset = scaler.transform(df.values)\n",
    "transformed_df = pd.DataFrame(data=transformed_dataset, index=df.index)"
   ]
  },
  {
   "cell_type": "code",
   "execution_count": null,
   "metadata": {
    "colab": {
     "base_uri": "https://localhost:8080/",
     "height": 206
    },
    "id": "0nuARcYc_9zH",
    "outputId": "20b1833d-8e7b-4213-898f-231e3806b399"
   },
   "outputs": [],
   "source": [
    "transformed_df.head()"
   ]
  },
  {
   "cell_type": "code",
   "execution_count": null,
   "metadata": {
    "colab": {
     "base_uri": "https://localhost:8080/"
    },
    "id": "VO8P7MGA_9zI",
    "outputId": "08789794-fe76-4766-a4f6-74bf04a0cc88"
   },
   "outputs": [],
   "source": [
    "# All our games\n",
    "number_of_rows = df.values.shape[0]\n",
    "number_of_rows"
   ]
  },
  {
   "cell_type": "code",
   "execution_count": null,
   "metadata": {
    "colab": {
     "base_uri": "https://localhost:8080/"
    },
    "id": "w0Sy4qwI_9zI",
    "outputId": "1f0e74c8-9f13-4f49-cf3b-9ea32fd5cb08"
   },
   "outputs": [],
   "source": [
    "# Amount of games we need to take into consideration for prediction\n",
    "window_length = 20\n",
    "window_length "
   ]
  },
  {
   "cell_type": "code",
   "execution_count": null,
   "metadata": {
    "colab": {
     "base_uri": "https://localhost:8080/"
    },
    "id": "rtJz-WDK_9zJ",
    "outputId": "6b96573f-58f0-4ce6-c9dc-d059ff4e1548"
   },
   "outputs": [],
   "source": [
    "# Balls counts\n",
    "number_of_features = df.values.shape[1]\n",
    "number_of_features"
   ]
  },
  {
   "cell_type": "code",
   "execution_count": null,
   "metadata": {
    "colab": {
     "base_uri": "https://localhost:8080/"
    },
    "id": "vOGYjTw6_9zJ",
    "outputId": "3455f8e2-e98a-4933-bdea-3a90a9a8fb60"
   },
   "outputs": [],
   "source": [
    "X = np.empty([ number_of_rows - window_length, window_length, number_of_features], dtype=float)\n",
    "X"
   ]
  },
  {
   "cell_type": "code",
   "execution_count": null,
   "metadata": {
    "colab": {
     "base_uri": "https://localhost:8080/"
    },
    "id": "-AEtpsnR_9zK",
    "outputId": "cb6755c8-26bd-4dc7-efe6-4b463e68bc86"
   },
   "outputs": [],
   "source": [
    "y = np.empty([ number_of_rows - window_length, number_of_features], dtype=float)\n",
    "y"
   ]
  },
  {
   "cell_type": "code",
   "execution_count": null,
   "metadata": {
    "id": "W8Od3t8__9zK"
   },
   "outputs": [],
   "source": [
    "for i in range(0, number_of_rows-window_length):\n",
    "    X[i] = transformed_df.iloc[i : i+window_length, 0 : number_of_features]\n",
    "    y[i] = transformed_df.iloc[i+window_length : i+window_length+1, 0 : number_of_features]"
   ]
  },
  {
   "cell_type": "code",
   "execution_count": null,
   "metadata": {
    "colab": {
     "base_uri": "https://localhost:8080/"
    },
    "id": "tQ2DX4qm_9zL",
    "outputId": "cc440ed7-439d-47f8-d26f-96cdbe7637e6"
   },
   "outputs": [],
   "source": [
    "X.shape"
   ]
  },
  {
   "cell_type": "code",
   "execution_count": null,
   "metadata": {
    "colab": {
     "base_uri": "https://localhost:8080/"
    },
    "id": "-e1Ialkb_9zL",
    "outputId": "817356b4-dbcd-4793-acad-5cf121928600"
   },
   "outputs": [],
   "source": [
    "y.shape"
   ]
  },
  {
   "cell_type": "code",
   "execution_count": null,
   "metadata": {
    "colab": {
     "base_uri": "https://localhost:8080/"
    },
    "id": "Pyo51t3s_9zL",
    "outputId": "ee4bfc2a-2d27-4096-813d-ee315937928f"
   },
   "outputs": [],
   "source": [
    "X[0]"
   ]
  },
  {
   "cell_type": "code",
   "execution_count": null,
   "metadata": {
    "colab": {
     "base_uri": "https://localhost:8080/"
    },
    "id": "Ow6h9xj2_9zL",
    "outputId": "6cde5dde-3f28-4044-e4be-3c334593fd0d"
   },
   "outputs": [],
   "source": [
    "X[1]"
   ]
  },
  {
   "cell_type": "code",
   "execution_count": null,
   "metadata": {
    "colab": {
     "base_uri": "https://localhost:8080/"
    },
    "id": "yAnAQgdw_9zM",
    "outputId": "6683611b-15d8-4763-c39c-3433e1e73c22"
   },
   "outputs": [],
   "source": [
    "y[0]"
   ]
  },
  {
   "cell_type": "code",
   "execution_count": null,
   "metadata": {
    "colab": {
     "base_uri": "https://localhost:8080/"
    },
    "id": "rOx-WcYz_9zM",
    "outputId": "a2e50142-d71a-40fc-892c-5ff120641bd5"
   },
   "outputs": [],
   "source": [
    "y[1]"
   ]
  },
  {
   "cell_type": "code",
   "execution_count": null,
   "metadata": {
    "id": "maIGJp8t_9zM"
   },
   "outputs": [],
   "source": [
    "# Recurrent Neural Network (RNN) with Long Short Term Memory (LSTM)\n",
    "# Importing the Keras libraries and packages\n",
    "from keras.models import Sequential\n",
    "from keras.layers import LSTM, Dense, Bidirectional, Dropout\n",
    "batch_size = 200"
   ]
  },
  {
   "cell_type": "code",
   "execution_count": null,
   "metadata": {
    "id": "b9d815xa_9zN"
   },
   "outputs": [],
   "source": [
    "# Initialising the RNN\n",
    "model = Sequential()\n",
    "# Adding the input layer and the LSTM layer\n",
    "model.add(Bidirectional(LSTM(240,\n",
    "                        input_shape = (window_length, number_of_features),\n",
    "                        return_sequences = True)))\n",
    "# Adding a first Dropout layer\n",
    "model.add(Dropout(0.2))\n",
    "# Adding a second LSTM layer\n",
    "model.add(Bidirectional(LSTM(240,\n",
    "                        input_shape = (window_length, number_of_features),\n",
    "                        return_sequences = True)))\n",
    "# Adding a second Dropout layer\n",
    "model.add(Dropout(0.2))\n",
    "# Adding a third LSTM layer\n",
    "model.add(Bidirectional(LSTM(240,\n",
    "                        input_shape = (window_length, number_of_features),\n",
    "                        return_sequences = True)))\n",
    "# Adding a fourth LSTM layer\n",
    "model.add(Bidirectional(LSTM(240,\n",
    "                        input_shape = (window_length, number_of_features),\n",
    "                        return_sequences = False)))\n",
    "# Adding a fourth Dropout layer\n",
    "model.add(Dropout(0.2))\n",
    "# Adding the first output layer\n",
    "model.add(Dense(59))\n",
    "# Adding the last output layer\n",
    "model.add(Dense(number_of_features))"
   ]
  },
  {
   "cell_type": "code",
   "execution_count": null,
   "metadata": {
    "id": "bE0G1oQc_9zN"
   },
   "outputs": [],
   "source": [
    "from tensorflow import keras\n",
    "from tensorflow.keras.optimizers import Adam\n",
    "model.compile(optimizer=Adam(learning_rate=0.0001), loss ='mse', metrics=['accuracy'])"
   ]
  },
  {
   "cell_type": "code",
   "execution_count": null,
   "metadata": {
    "colab": {
     "base_uri": "https://localhost:8080/"
    },
    "id": "p0XPuMCI_9zN",
    "outputId": "0a50b873-da17-4e85-c9e4-1a60f1ae4695"
   },
   "outputs": [],
   "source": [
    "model.fit(x=X, y=y, batch_size=200, epochs=500, verbose=2)"
   ]
  },
  {
   "cell_type": "code",
   "execution_count": null,
   "metadata": {
    "colab": {
     "base_uri": "https://localhost:8080/",
     "height": 356
    },
    "id": "Jt2Btz2P_9zO",
    "outputId": "31686e10-01d4-47a8-f18b-99816d47e033"
   },
   "outputs": [],
   "source": [
    "to_predict = df.tail(8)\n",
    "to_predict.drop([to_predict.index[-1]],axis=0, inplace=True)\n",
    "to_predict"
   ]
  },
  {
   "cell_type": "code",
   "execution_count": null,
   "metadata": {
    "colab": {
     "base_uri": "https://localhost:8080/"
    },
    "id": "YG4U8by7_9zO",
    "outputId": "83ccc062-a0c4-48ee-c967-432220c71518"
   },
   "outputs": [],
   "source": [
    "to_predict = np.array(to_predict)\n",
    "to_predict"
   ]
  },
  {
   "cell_type": "code",
   "execution_count": null,
   "metadata": {
    "id": "H5frjfOID1el"
   },
   "outputs": [],
   "source": [
    "scaled_to_predict = scaler.transform(to_predict)"
   ]
  },
  {
   "cell_type": "code",
   "execution_count": null,
   "metadata": {
    "colab": {
     "base_uri": "https://localhost:8080/"
    },
    "id": "hD3arI-s_9zO",
    "outputId": "3df0e67b-bdaa-4547-b337-ded71564fa09"
   },
   "outputs": [],
   "source": [
    "y_pred = model.predict(np.array([scaled_to_predict]))\n",
    "print(\"The predicted numbers in the last lottery game are:\", scaler.inverse_transform(y_pred).astype(int)[0])"
   ]
  },
  {
   "cell_type": "code",
   "execution_count": null,
   "metadata": {
    "colab": {
     "base_uri": "https://localhost:8080/"
    },
    "id": "Rz6nBsxV_9zP",
    "outputId": "7fb44850-05f4-433c-fa39-d56fd36f740d"
   },
   "outputs": [],
   "source": [
    "prediction = df.tail(1)\n",
    "prediction = np.array(prediction)\n",
    "print(\"The actual numbers in the last lottery game were:\", prediction[0])"
   ]
  },
  {
   "cell_type": "code",
   "execution_count": null,
   "metadata": {},
   "outputs": [],
   "source": []
  }
 ],
 "metadata": {
  "accelerator": "GPU",
  "colab": {
   "collapsed_sections": [],
   "name": "Copy of Israeli Lottery.ipynb",
   "provenance": []
  },
  "kernelspec": {
   "display_name": ".venv",
   "language": "python",
   "name": "python3"
  },
  "language_info": {
   "codemirror_mode": {
    "name": "ipython",
    "version": 3
   },
   "file_extension": ".py",
   "mimetype": "text/x-python",
   "name": "python",
   "nbconvert_exporter": "python",
   "pygments_lexer": "ipython3",
   "version": "3.10.2"
  },
  "vscode": {
   "interpreter": {
    "hash": "a6da6f1f0d54c3dd18b73209c645bc18867128bdc0d58eb5d64ac8b09452444e"
   }
  }
 },
 "nbformat": 4,
 "nbformat_minor": 1
}
