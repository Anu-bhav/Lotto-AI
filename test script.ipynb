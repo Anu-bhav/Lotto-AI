{
 "cells": [
  {
   "attachments": {},
   "cell_type": "markdown",
   "metadata": {},
   "source": [
    "## Scrape Lotto Winning number from official site\n",
    "https://www.loterienationale.mu/fr/tirages-et-archives?field_date_du_tirage_value%5Bvalue%5D%5Bdate%5D=04+Jan+2023"
   ]
  },
  {
   "cell_type": "code",
   "execution_count": null,
   "metadata": {},
   "outputs": [],
   "source": [
    "import requests\n",
    "from lxml import etree\n",
    "from bs4 import BeautifulSoup\n",
    "from datetime import date, datetime, timedelta\n",
    "import pandas as pd\n",
    "import numpy as np\n",
    "import calendar"
   ]
  },
  {
   "cell_type": "code",
   "execution_count": null,
   "metadata": {},
   "outputs": [],
   "source": [
    "sample = \"https://www.loterienationale.mu/fr/tirages-et-archives?field_date_du_tirage_value%5Bvalue%5D%5Bdate%5D=04+Jan+2023\"\n",
    "url = \"https://www.loterienationale.mu/fr/tirages-et-archives\"\n",
    "params = {'field_date_du_tirage_value[value][date]': '02 Fév 2022'}\n",
    "page = requests.get(url, params=params)\n",
    "page\n"
   ]
  },
  {
   "cell_type": "code",
   "execution_count": null,
   "metadata": {},
   "outputs": [],
   "source": [
    "def get_winning_number(page):\n",
    "    soup = BeautifulSoup(page.content, \"html.parser\")\n",
    "    dom = etree.HTML(str(soup))\n",
    "    try:\n",
    "        result = dom.xpath('//*[@id=\"num-gagnants\"]')[0].text\n",
    "        # print(result)\n",
    "        lotto_nums = [int(i) for i in result.split(',')]\n",
    "        return {'A': lotto_nums[0], 'B': lotto_nums[1], 'C': lotto_nums[2], 'D': lotto_nums[3], 'E': lotto_nums[4], 'F': lotto_nums[5]}\n",
    "    except:\n",
    "        pass\n",
    "    \n",
    "\n",
    "get_winning_number(page)"
   ]
  },
  {
   "cell_type": "code",
   "execution_count": null,
   "metadata": {},
   "outputs": [],
   "source": [
    "def sort_dates(dates):\n",
    "    def date_key(date_string):\n",
    "        return datetime.strptime(date_string, '%d %b %Y')     \n",
    "    return sorted(dates, key=date_key)\n",
    "\n",
    "def replace_french_month(dates):\n",
    "    fr_month = { 'Jan': 1,  'Fév': 2,  'Mars': 3,  'Avr': 4,  'mai': 5,  'Juin': 6,  'Jui': 7,  'Août': 8,  'Sep': 9,  'Oct': 10,  'Nov': 11,  'Dec': 12}\n",
    "    fr_month = dict((v,k) for k,v in fr_month.items())\n",
    "    # print(fr_month)\n",
    "    \n",
    "    for i, date in enumerate(dates):\n",
    "        month_num = datetime.strptime(date, '%d %b %Y').month\n",
    "        # print(date,  fr_month[month_num], calendar.month_abbr[month_num])\n",
    "        new_date = date.replace(calendar.month_abbr[month_num], fr_month[month_num])\n",
    "        dates[i] = new_date \n",
    "    return dates\n",
    " \n",
    "def get_lotto_days(year):\n",
    "    wed = pd.date_range(start=str(year), end=str(year+1), freq='W-WED').strftime('%d %b %Y').tolist()\n",
    "    sat = pd.date_range(start=str(year), end=str(year+1), freq='W-SAT').strftime('%d %b %Y').tolist()\n",
    "    \n",
    "    final = []\n",
    "    for x,y in zip(wed, sat):\n",
    "        final.append(x)\n",
    "        final.append(y)\n",
    "\n",
    "    sorted_dates = sort_dates(final)\n",
    "    new_fr_dates = replace_french_month(sorted_dates)\n",
    "    return [new_fr_dates, sort_dates(final)]\n",
    "    \n",
    "# replace_french_month(get_lotto_days(2022)[9:15])\n",
    "# start loto date 07 novembre 2009\n",
    "get_lotto_days(2009)[0][88:]\n",
    "get_lotto_days(2023)[0][:4]"
   ]
  },
  {
   "cell_type": "code",
   "execution_count": 67,
   "metadata": {},
   "outputs": [],
   "source": [
    "def scrape(year):\n",
    "    lotto_date_range, lotto_eng_dates = get_lotto_days(year)[0], get_lotto_days(year)[1]\n",
    "    # lotto_date_range, lotto_eng_dates = get_lotto_days(2009)[0][88:], get_lotto_days(2009)[1][88:]\n",
    "    # lotto_date_range, lotto_eng_dates = get_lotto_days(2023)[0][:4], get_lotto_days(2023)[1][:4]\n",
    "    data = []\n",
    "\n",
    "    for i, lotto_date in enumerate(lotto_date_range, start = 1):\n",
    "        \n",
    "        params = {'field_date_du_tirage_value[value][date]': lotto_date}\n",
    "        page = requests.get(url, params=params, timeout=5)\n",
    "        if b\"Pas de tirage\" in page.content:\n",
    "            # print(True)\n",
    "            continue\n",
    "\n",
    "        date_format = datetime.strptime(lotto_eng_dates[i - 1], '%d %b %Y').strftime(\"%d/%m/%Y\")\n",
    "        # print(date_format)\n",
    "        more_info = {'Game': i,'Date': date_format}\n",
    "\n",
    "        final_dict = {**more_info, **get_winning_number(page)}\n",
    "        print(final_dict)\n",
    "        data.append(final_dict)\n",
    " \n",
    "    # print(data)\n",
    "    return data\n"
   ]
  },
  {
   "cell_type": "code",
   "execution_count": 73,
   "metadata": {},
   "outputs": [
    {
     "name": "stdout",
     "output_type": "stream",
     "text": [
      "{'Game': 1, 'Date': '04/01/2023', 'A': 7, 'B': 12, 'C': 15, 'D': 21, 'E': 30, 'F': 34}\n",
      "{'Game': 2, 'Date': '07/01/2023', 'A': 3, 'B': 8, 'C': 26, 'D': 28, 'E': 33, 'F': 35}\n",
      "{'Game': 3, 'Date': '11/01/2023', 'A': 1, 'B': 5, 'C': 14, 'D': 18, 'E': 31, 'F': 35}\n",
      "{'Game': 4, 'Date': '14/01/2023', 'A': 11, 'B': 14, 'C': 20, 'D': 24, 'E': 28, 'F': 29}\n"
     ]
    },
    {
     "data": {
      "text/html": [
       "<div>\n",
       "<style scoped>\n",
       "    .dataframe tbody tr th:only-of-type {\n",
       "        vertical-align: middle;\n",
       "    }\n",
       "\n",
       "    .dataframe tbody tr th {\n",
       "        vertical-align: top;\n",
       "    }\n",
       "\n",
       "    .dataframe thead th {\n",
       "        text-align: right;\n",
       "    }\n",
       "</style>\n",
       "<table border=\"1\" class=\"dataframe\">\n",
       "  <thead>\n",
       "    <tr style=\"text-align: right;\">\n",
       "      <th></th>\n",
       "      <th>Game</th>\n",
       "      <th>Date</th>\n",
       "      <th>A</th>\n",
       "      <th>B</th>\n",
       "      <th>C</th>\n",
       "      <th>D</th>\n",
       "      <th>E</th>\n",
       "      <th>F</th>\n",
       "    </tr>\n",
       "  </thead>\n",
       "  <tbody>\n",
       "    <tr>\n",
       "      <th>1</th>\n",
       "      <td>1</td>\n",
       "      <td>04/01/2023</td>\n",
       "      <td>7</td>\n",
       "      <td>12</td>\n",
       "      <td>15</td>\n",
       "      <td>21</td>\n",
       "      <td>30</td>\n",
       "      <td>34</td>\n",
       "    </tr>\n",
       "    <tr>\n",
       "      <th>2</th>\n",
       "      <td>2</td>\n",
       "      <td>07/01/2023</td>\n",
       "      <td>3</td>\n",
       "      <td>8</td>\n",
       "      <td>26</td>\n",
       "      <td>28</td>\n",
       "      <td>33</td>\n",
       "      <td>35</td>\n",
       "    </tr>\n",
       "    <tr>\n",
       "      <th>3</th>\n",
       "      <td>3</td>\n",
       "      <td>11/01/2023</td>\n",
       "      <td>1</td>\n",
       "      <td>5</td>\n",
       "      <td>14</td>\n",
       "      <td>18</td>\n",
       "      <td>31</td>\n",
       "      <td>35</td>\n",
       "    </tr>\n",
       "    <tr>\n",
       "      <th>4</th>\n",
       "      <td>4</td>\n",
       "      <td>14/01/2023</td>\n",
       "      <td>11</td>\n",
       "      <td>14</td>\n",
       "      <td>20</td>\n",
       "      <td>24</td>\n",
       "      <td>28</td>\n",
       "      <td>29</td>\n",
       "    </tr>\n",
       "  </tbody>\n",
       "</table>\n",
       "</div>"
      ],
      "text/plain": [
       "   Game        Date   A   B   C   D   E   F\n",
       "1     1  04/01/2023   7  12  15  21  30  34\n",
       "2     2  07/01/2023   3   8  26  28  33  35\n",
       "3     3  11/01/2023   1   5  14  18  31  35\n",
       "4     4  14/01/2023  11  14  20  24  28  29"
      ]
     },
     "execution_count": 73,
     "metadata": {},
     "output_type": "execute_result"
    }
   ],
   "source": [
    "year = 2023\n",
    "lotto_df = scrape(year)\n",
    "\n",
    "df = pd.DataFrame(lotto_df, columns=('Game', 'Date', 'A', 'B', 'C', 'D', 'E', 'F'))\n",
    "df.index = np.arange(1, len(df)+1)\n",
    "df.to_csv(f'lotto-{year}.csv', index=False)\n",
    "df"
   ]
  },
  {
   "cell_type": "code",
   "execution_count": null,
   "metadata": {},
   "outputs": [],
   "source": []
  }
 ],
 "metadata": {
  "kernelspec": {
   "display_name": "Python 3",
   "language": "python",
   "name": "python3"
  },
  "language_info": {
   "codemirror_mode": {
    "name": "ipython",
    "version": 3
   },
   "file_extension": ".py",
   "mimetype": "text/x-python",
   "name": "python",
   "nbconvert_exporter": "python",
   "pygments_lexer": "ipython3",
   "version": "3.10.2 (tags/v3.10.2:a58ebcc, Jan 17 2022, 14:12:15) [MSC v.1929 64 bit (AMD64)]"
  },
  "orig_nbformat": 4,
  "vscode": {
   "interpreter": {
    "hash": "c23c4d4191d251bc196cdac2587586a9e42afaeeea7871ac252074151bc30eed"
   }
  }
 },
 "nbformat": 4,
 "nbformat_minor": 2
}
